{
  "cells": [
    {
      "cell_type": "markdown",
      "metadata": {
        "id": "view-in-github",
        "colab_type": "text"
      },
      "source": [
        "<a href=\"https://colab.research.google.com/github/kindachamma1/ComputerVision2025/blob/Exercise2/Exercise_2.ipynb\" target=\"_parent\"><img src=\"https://colab.research.google.com/assets/colab-badge.svg\" alt=\"Open In Colab\"/></a>"
      ]
    },
    {
      "cell_type": "markdown",
      "metadata": {
        "id": "5ZUuhuOnoIfl"
      },
      "source": [
        "# Module 2: IMAGE SEGMENTATION"
      ]
    },
    {
      "cell_type": "markdown",
      "source": [
        "Christian Mata, PhD"
      ],
      "metadata": {
        "id": "NMFL7ZYWWK9L"
      }
    },
    {
      "cell_type": "markdown",
      "source": [
        "# Exercise 2\n",
        "\n",
        "**Before starting:**\n",
        "\n",
        "- Create a GitHub repository to upload the solution of this exercise.\n",
        "- Share this GitHub link to your professor.\n",
        "\n",
        "**Objectives**\n",
        "\n",
        "Generate a single Python notebook implementing and answering the following questions:\n",
        "\n",
        "🔹 **Task 1:** Load an image and apply a thresholding method. Analyze and discuss the segmentation results.\n",
        "\n",
        "🔹 **Task 2:** Load an image and apply an unsupervised segmentation method (e.g., K-Means). Evaluate and comment on the outcome.\n",
        "\n",
        "🔹 **Task 3:** Load an image and apply a supervised segmentation method (e.g., with annotated labels or using a classifier). Discuss the effectiveness and limitations.\n",
        "\n",
        "🔹 **Task 4:** Explain the main differences between supervised and unsupervised segmentation approaches. Discuss their advantages and disadvantages, and illustrate your explanation with an example.\n"
      ],
      "metadata": {
        "id": "9HoIhrFu2MoR"
      }
    }
  ],
  "metadata": {
    "kernelspec": {
      "display_name": "Python 3",
      "language": "python",
      "name": "python3"
    },
    "language_info": {
      "codemirror_mode": {
        "name": "ipython",
        "version": 3
      },
      "file_extension": ".py",
      "mimetype": "text/x-python",
      "name": "python",
      "nbconvert_exporter": "python",
      "pygments_lexer": "ipython3",
      "version": "3.7.3"
    },
    "colab": {
      "provenance": [],
      "toc_visible": true,
      "include_colab_link": true
    }
  },
  "nbformat": 4,
  "nbformat_minor": 0
}