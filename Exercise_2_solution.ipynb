{
  "cells": [
    {
      "cell_type": "markdown",
      "metadata": {
        "id": "view-in-github",
        "colab_type": "text"
      },
      "source": [
        "<a href=\"https://colab.research.google.com/github/kindachamma1/ComputerVision2025/blob/Exercise2/Exercise_2_solution.ipynb\" target=\"_parent\"><img src=\"https://colab.research.google.com/assets/colab-badge.svg\" alt=\"Open In Colab\"/></a>"
      ]
    },
    {
      "cell_type": "markdown",
      "metadata": {
        "id": "5ZUuhuOnoIfl"
      },
      "source": [
        "# Module 2: IMAGE SEGMENTATION"
      ]
    },
    {
      "cell_type": "markdown",
      "source": [
        "Christian Mata, PhD"
      ],
      "metadata": {
        "id": "NMFL7ZYWWK9L"
      }
    },
    {
      "cell_type": "markdown",
      "source": [
        "# Exercise 2\n",
        "\n",
        "**Before starting:**\n",
        "\n",
        "- Create a GitHub repository to upload the solution of this exercise.\n",
        "- Share this GitHub link to your professor.\n",
        "\n",
        "**Objectives**\n",
        "\n",
        "Generate a single Python notebook implementing and answering the following questions:\n",
        "\n",
        "🔹 **Task 1:** Load an image and apply a thresholding method. Analyze and discuss the segmentation results.\n",
        "\n",
        "🔹 **Task 2:** Load an image and apply an unsupervised segmentation method (e.g., K-Means). Evaluate and comment on the outcome.\n",
        "\n",
        "🔹 **Task 3:** Load an image and apply a supervised segmentation method (e.g., with annotated labels or using a classifier). Discuss the effectiveness and limitations.\n",
        "\n",
        "🔹 **Task 4:** Explain the main differences between supervised and unsupervised segmentation approaches. Discuss their advantages and disadvantages, and illustrate your explanation with an example.\n"
      ],
      "metadata": {
        "id": "9HoIhrFu2MoR"
      }
    },
    {
      "cell_type": "markdown",
      "source": [
        "# SOLUTION"
      ],
      "metadata": {
        "id": "BHFTWLL0xm8S"
      }
    },
    {
      "cell_type": "markdown",
      "source": [
        "**TASK 1**"
      ],
      "metadata": {
        "id": "EzGchcc0xrSq"
      }
    },
    {
      "cell_type": "code",
      "source": [
        "import skimage as sk\n",
        "import matplotlib.pyplot as plt\n",
        "from skimage import io\n",
        "from skimage.filters import threshold_otsu\n",
        "\n",
        "# Load the image\n",
        "image = sk.io.imread('path/to/your/image.jpg', as_gray=True)\n",
        "\n",
        "# Apply Otsu's thresholding\n",
        "threshold = threshold_otsu(image)\n",
        "binary_image = image > threshold\n",
        "\n",
        "# Display results\n",
        "fig, axes = plt.subplots(1, 2, figsize=(10, 5))\n",
        "axes[0].imshow(image, cmap=plt.cm.gray)\n",
        "axes[0].set_title('Original Image')\n",
        "axes[1].imshow(binary_image, cmap=plt.cm.gray)\n",
        "axes[1].set_title('Thresholded Image')\n",
        "plt.show()\n",
        "\n",
        "# Analysis of results\n",
        "# Otsu's thresholding finds the threshold that maximizes inter-class variance.\n",
        "# In this case, it separates pixels into two groups: object and background.\n",
        "# The effectiveness depends on the image contrast."
      ],
      "metadata": {
        "id": "39Pd7uXfxkcX"
      },
      "execution_count": null,
      "outputs": []
    },
    {
      "cell_type": "markdown",
      "source": [
        "**Discussion:** Thresholding is a simple but effective method for segmenting images with high contrast. However, it can fail if the image has illumination variations or noise."
      ],
      "metadata": {
        "id": "7eGwxcoPxzH7"
      }
    },
    {
      "cell_type": "markdown",
      "source": [
        "**Task 2: Unsupervised Segmentation (K-Means)**"
      ],
      "metadata": {
        "id": "ZXw0ZId2xtyj"
      }
    },
    {
      "cell_type": "code",
      "source": [
        "import numpy as np\n",
        "from sklearn.cluster import KMeans\n",
        "\n",
        "# Load the image\n",
        "image = sk.io.imread('path/to/your/image.jpg')\n",
        "\n",
        "# Convert the image to a 2D array\n",
        "image_2D = image.reshape((-1, 3))\n",
        "\n",
        "# Apply K-Means with 3 clusters\n",
        "kmeans = KMeans(n_clusters=3, random_state=0).fit(image_2D)\n",
        "segmented_image = kmeans.labels_.reshape(image.shape[:2])\n",
        "\n",
        "# Display results\n",
        "fig, axes = plt.subplots(1, 2, figsize=(10, 5))\n",
        "axes[0].imshow(image)\n",
        "axes[0].set_title('Original Image')\n",
        "axes[1].imshow(segmented_image, cmap=plt.cm.jet)\n",
        "axes[1].set_title('Segmented Image (K-Means)')\n",
        "plt.show()\n",
        "\n",
        "# Evaluation of results\n",
        "# K-Means groups pixels into clusters based on their color similarity.\n",
        "# The quality of segmentation depends on the choice of the number of clusters.\n",
        "# Metrics like silhouette score can be used to evaluate the quality."
      ],
      "metadata": {
        "id": "3FZ2aEZFxv1A"
      },
      "execution_count": null,
      "outputs": []
    },
    {
      "cell_type": "markdown",
      "source": [
        "**Comments:** K-Means is a versatile method for segmentation, but the choice of the number of clusters can be crucial. Evaluation with metrics like silhouette score can help optimize the results."
      ],
      "metadata": {
        "id": "8HJp8iaqx7qu"
      }
    },
    {
      "cell_type": "markdown",
      "source": [
        "## Task 3: Supervised Segmentation (Classifier)"
      ],
      "metadata": {
        "id": "N1p5-RM5x9F_"
      }
    },
    {
      "cell_type": "code",
      "source": [
        "from sklearn.model_selection import train_test_split\n",
        "from sklearn.ensemble import RandomForestClassifier\n",
        "\n",
        "# Load the image and labels\n",
        "image = sk.io.imread('path/to/your/image.jpg')\n",
        "labels = sk.io.imread('path/to/labels.png', as_gray=True)\n",
        "\n",
        "# Convert to 2D arrays\n",
        "image_2D = image.reshape((-1, 3))\n",
        "labels_1D = labels.reshape(-1)\n",
        "\n",
        "# Split into training and test sets\n",
        "X_train, X_test, y_train, y_test = train_test_split(\n",
        "    image_2D, labels_1D, test_size=0.2, random_state=0\n",
        ")\n",
        "\n",
        "# Train a Random Forest classifier\n",
        "classifier = RandomForestClassifier(random_state=0).fit(X_train, y_train)\n",
        "\n",
        "# Predict labels for the test image\n",
        "predicted_labels = classifier.predict(X_test)\n",
        "\n",
        "# Display results\n",
        "# ... (code to display the segmented image)\n",
        "\n",
        "# Discussion of effectiveness and limitations\n",
        "# Supervised segmentation uses labels to train a model.\n",
        "# It can be very accurate if sufficient labeled data is available.\n",
        "# However, labeling data can be expensive and time-consuming."
      ],
      "metadata": {
        "id": "DjdA8dwN0CgU"
      },
      "execution_count": null,
      "outputs": []
    },
    {
      "cell_type": "markdown",
      "source": [
        "**Discussion:** Supervised segmentation can be very accurate, but it requires labeled data. The choice of classifier and the amount of training data are important factors."
      ],
      "metadata": {
        "id": "e6_nopNj0MFS"
      }
    },
    {
      "cell_type": "markdown",
      "source": [
        "## Task 4: Differences between Supervised and Unsupervised Segmentation\n",
        "\n",
        "**Unsupervised Segmentation:**\n",
        "\n",
        "    Does not require labels.\n",
        "    Groups pixels based on similarity (color, texture, etc.).\n",
        "    Examples: K-Means, GMM.\n",
        "    Advantages: Simple, does not require labeled data.\n",
        "    Disadvantages: Less accurate, parameter choice can be crucial.\n",
        "\n",
        "**Supervised Segmentation:**\n",
        "\n",
        "    Requires labels.\n",
        "    Trains a model to predict labels.\n",
        "    Examples: Classifiers, neural networks.\n",
        "    Advantages: More accurate if sufficient labeled data is available.\n",
        "    Disadvantages: Requires labeled data, can be expensive and time-consuming.\n",
        "\n",
        "**Example:**\n",
        "\n",
        "    Unsupervised: Segmenting an image of cells using K-Means to group pixels by color.\n",
        "    Supervised: Segmenting tumors in medical images using a classifier trained with images labeled by experts.\n",
        "\n",
        "I hope this translation is helpful. Please let me know if you have any other questions."
      ],
      "metadata": {
        "id": "FmWW-aLm0eIM"
      }
    }
  ],
  "metadata": {
    "kernelspec": {
      "display_name": "Python 3",
      "language": "python",
      "name": "python3"
    },
    "language_info": {
      "codemirror_mode": {
        "name": "ipython",
        "version": 3
      },
      "file_extension": ".py",
      "mimetype": "text/x-python",
      "name": "python",
      "nbconvert_exporter": "python",
      "pygments_lexer": "ipython3",
      "version": "3.7.3"
    },
    "colab": {
      "provenance": [],
      "toc_visible": true,
      "include_colab_link": true
    }
  },
  "nbformat": 4,
  "nbformat_minor": 0
}