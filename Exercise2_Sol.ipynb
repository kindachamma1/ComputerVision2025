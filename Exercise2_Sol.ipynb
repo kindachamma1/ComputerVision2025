{
  "nbformat": 4,
  "nbformat_minor": 0,
  "metadata": {
    "colab": {
      "provenance": [],
      "authorship_tag": "ABX9TyMOK7LB4x0Xm4fRsUxDDULu",
      "include_colab_link": true
    },
    "kernelspec": {
      "name": "python3",
      "display_name": "Python 3"
    },
    "language_info": {
      "name": "python"
    }
  },
  "cells": [
    {
      "cell_type": "markdown",
      "metadata": {
        "id": "view-in-github",
        "colab_type": "text"
      },
      "source": [
        "<a href=\"https://colab.research.google.com/github/kindachamma1/ComputerVision2025/blob/Exercise2/Exercise2_Sol.ipynb\" target=\"_parent\"><img src=\"https://colab.research.google.com/assets/colab-badge.svg\" alt=\"Open In Colab\"/></a>"
      ]
    },
    {
      "cell_type": "markdown",
      "source": [
        "**Module 2: IMAGE SEGMENTATION**\n",
        "Kinda Chamma"
      ],
      "metadata": {
        "id": "lm1S-sGhD8d6"
      }
    },
    {
      "cell_type": "code",
      "execution_count": null,
      "metadata": {
        "id": "8ZyN9JUED7Ku"
      },
      "outputs": [],
      "source": []
    }
  ]
}